{
 "cells": [
  {
   "cell_type": "code",
   "execution_count": 1,
   "id": "26cffa6f",
   "metadata": {
    "_cell_guid": "b1076dfc-b9ad-4769-8c92-a6c4dae69d19",
    "_uuid": "8f2839f25d086af736a60e9eeb907d3b93b6e0e5",
    "execution": {
     "iopub.execute_input": "2024-06-13T08:23:15.310634Z",
     "iopub.status.busy": "2024-06-13T08:23:15.310295Z",
     "iopub.status.idle": "2024-06-13T08:23:16.072798Z",
     "shell.execute_reply": "2024-06-13T08:23:16.071567Z"
    },
    "papermill": {
     "duration": 0.776065,
     "end_time": "2024-06-13T08:23:16.074940",
     "exception": false,
     "start_time": "2024-06-13T08:23:15.298875",
     "status": "completed"
    },
    "tags": []
   },
   "outputs": [
    {
     "name": "stdout",
     "output_type": "stream",
     "text": [
      "/kaggle/input/kml-2024-s-final-exam/sample_submission.csv\n",
      "/kaggle/input/kml-2024-s-final-exam/train.csv\n",
      "/kaggle/input/kml-2024-s-final-exam/test.csv\n"
     ]
    }
   ],
   "source": [
    "# This Python 3 environment comes with many helpful analytics libraries installed\n",
    "# It is defined by the kaggle/python Docker image: https://github.com/kaggle/docker-python\n",
    "# For example, here's several helpful packages to load\n",
    "\n",
    "import numpy as np # linear algebra\n",
    "import pandas as pd # data processing, CSV file I/O (e.g. pd.read_csv)\n",
    "\n",
    "# Input data files are available in the read-only \"../input/\" directory\n",
    "# For example, running this (by clicking run or pressing Shift+Enter) will list all files under the input directory\n",
    "\n",
    "import os\n",
    "for dirname, _, filenames in os.walk('/kaggle/input'):\n",
    "    for filename in filenames:\n",
    "        print(os.path.join(dirname, filename))\n",
    "\n",
    "# You can write up to 20GB to the current directory (/kaggle/working/) that gets preserved as output when you create a version using \"Save & Run All\" \n",
    "# You can also write temporary files to /kaggle/temp/, but they won't be saved outside of the current session"
   ]
  },
  {
   "cell_type": "code",
   "execution_count": 2,
   "id": "40cd4ddc",
   "metadata": {
    "execution": {
     "iopub.execute_input": "2024-06-13T08:23:16.096338Z",
     "iopub.status.busy": "2024-06-13T08:23:16.095948Z",
     "iopub.status.idle": "2024-06-13T08:23:17.219742Z",
     "shell.execute_reply": "2024-06-13T08:23:17.218875Z"
    },
    "papermill": {
     "duration": 1.136674,
     "end_time": "2024-06-13T08:23:17.221952",
     "exception": false,
     "start_time": "2024-06-13T08:23:16.085278",
     "status": "completed"
    },
    "tags": []
   },
   "outputs": [],
   "source": [
    "import pandas as pd\n",
    "import numpy as np\n",
    "import matplotlib.pyplot as plt\n",
    "%matplotlib inline\n",
    "import seaborn as sns\n",
    "import warnings\n",
    "warnings.filterwarnings(\"ignore\")\n",
    "\n",
    "pd.set_option(\"display.max_columns\", 30)"
   ]
  },
  {
   "cell_type": "code",
   "execution_count": 3,
   "id": "0f050d54",
   "metadata": {
    "execution": {
     "iopub.execute_input": "2024-06-13T08:23:17.243529Z",
     "iopub.status.busy": "2024-06-13T08:23:17.243224Z",
     "iopub.status.idle": "2024-06-13T08:23:17.318163Z",
     "shell.execute_reply": "2024-06-13T08:23:17.317437Z"
    },
    "papermill": {
     "duration": 0.087904,
     "end_time": "2024-06-13T08:23:17.320430",
     "exception": false,
     "start_time": "2024-06-13T08:23:17.232526",
     "status": "completed"
    },
    "tags": []
   },
   "outputs": [],
   "source": [
    "train = pd.read_csv('/kaggle/input/kml-2024-s-final-exam/train.csv')\n",
    "test = pd.read_csv('/kaggle/input/kml-2024-s-final-exam/test.csv')"
   ]
  },
  {
   "cell_type": "code",
   "execution_count": 4,
   "id": "8ad5733e",
   "metadata": {
    "execution": {
     "iopub.execute_input": "2024-06-13T08:23:17.342551Z",
     "iopub.status.busy": "2024-06-13T08:23:17.342250Z",
     "iopub.status.idle": "2024-06-13T08:23:17.372619Z",
     "shell.execute_reply": "2024-06-13T08:23:17.371813Z"
    },
    "papermill": {
     "duration": 0.042983,
     "end_time": "2024-06-13T08:23:17.374503",
     "exception": false,
     "start_time": "2024-06-13T08:23:17.331520",
     "status": "completed"
    },
    "tags": []
   },
   "outputs": [
    {
     "data": {
      "text/html": [
       "<div>\n",
       "<style scoped>\n",
       "    .dataframe tbody tr th:only-of-type {\n",
       "        vertical-align: middle;\n",
       "    }\n",
       "\n",
       "    .dataframe tbody tr th {\n",
       "        vertical-align: top;\n",
       "    }\n",
       "\n",
       "    .dataframe thead th {\n",
       "        text-align: right;\n",
       "    }\n",
       "</style>\n",
       "<table border=\"1\" class=\"dataframe\">\n",
       "  <thead>\n",
       "    <tr style=\"text-align: right;\">\n",
       "      <th></th>\n",
       "      <th>id</th>\n",
       "      <th>num01</th>\n",
       "      <th>num02</th>\n",
       "      <th>cat01</th>\n",
       "      <th>cat02</th>\n",
       "      <th>cat03</th>\n",
       "      <th>cat04</th>\n",
       "      <th>cat05</th>\n",
       "      <th>cat06</th>\n",
       "      <th>cat07</th>\n",
       "      <th>cat08</th>\n",
       "      <th>target</th>\n",
       "    </tr>\n",
       "  </thead>\n",
       "  <tbody>\n",
       "    <tr>\n",
       "      <th>0</th>\n",
       "      <td>SID100109</td>\n",
       "      <td>0</td>\n",
       "      <td>70.0</td>\n",
       "      <td>6</td>\n",
       "      <td>67</td>\n",
       "      <td>18</td>\n",
       "      <td>326</td>\n",
       "      <td>NaN</td>\n",
       "      <td>1</td>\n",
       "      <td>2147745792</td>\n",
       "      <td>NaN</td>\n",
       "      <td>21</td>\n",
       "    </tr>\n",
       "    <tr>\n",
       "      <th>1</th>\n",
       "      <td>SID100255</td>\n",
       "      <td>35</td>\n",
       "      <td>NaN</td>\n",
       "      <td>2</td>\n",
       "      <td>49</td>\n",
       "      <td>24</td>\n",
       "      <td>263</td>\n",
       "      <td>9.0</td>\n",
       "      <td>1</td>\n",
       "      <td>790528</td>\n",
       "      <td>4.0</td>\n",
       "      <td>21</td>\n",
       "    </tr>\n",
       "    <tr>\n",
       "      <th>2</th>\n",
       "      <td>SID100284</td>\n",
       "      <td>0</td>\n",
       "      <td>60.0</td>\n",
       "      <td>0</td>\n",
       "      <td>105</td>\n",
       "      <td>23</td>\n",
       "      <td>1594</td>\n",
       "      <td>NaN</td>\n",
       "      <td>0</td>\n",
       "      <td>2147745792</td>\n",
       "      <td>NaN</td>\n",
       "      <td>19</td>\n",
       "    </tr>\n",
       "    <tr>\n",
       "      <th>3</th>\n",
       "      <td>SID100315</td>\n",
       "      <td>12</td>\n",
       "      <td>70.0</td>\n",
       "      <td>7</td>\n",
       "      <td>19</td>\n",
       "      <td>23</td>\n",
       "      <td>1590</td>\n",
       "      <td>NaN</td>\n",
       "      <td>0</td>\n",
       "      <td>2147745824</td>\n",
       "      <td>4.0</td>\n",
       "      <td>25</td>\n",
       "    </tr>\n",
       "    <tr>\n",
       "      <th>4</th>\n",
       "      <td>SID100374</td>\n",
       "      <td>0</td>\n",
       "      <td>70.0</td>\n",
       "      <td>3</td>\n",
       "      <td>24</td>\n",
       "      <td>34</td>\n",
       "      <td>1969</td>\n",
       "      <td>NaN</td>\n",
       "      <td>1</td>\n",
       "      <td>2048</td>\n",
       "      <td>NaN</td>\n",
       "      <td>19</td>\n",
       "    </tr>\n",
       "    <tr>\n",
       "      <th>...</th>\n",
       "      <td>...</td>\n",
       "      <td>...</td>\n",
       "      <td>...</td>\n",
       "      <td>...</td>\n",
       "      <td>...</td>\n",
       "      <td>...</td>\n",
       "      <td>...</td>\n",
       "      <td>...</td>\n",
       "      <td>...</td>\n",
       "      <td>...</td>\n",
       "      <td>...</td>\n",
       "      <td>...</td>\n",
       "    </tr>\n",
       "    <tr>\n",
       "      <th>16565</th>\n",
       "      <td>SID99558</td>\n",
       "      <td>0</td>\n",
       "      <td>80.0</td>\n",
       "      <td>9</td>\n",
       "      <td>17</td>\n",
       "      <td>29</td>\n",
       "      <td>1770</td>\n",
       "      <td>NaN</td>\n",
       "      <td>0</td>\n",
       "      <td>2147746304</td>\n",
       "      <td>NaN</td>\n",
       "      <td>17</td>\n",
       "    </tr>\n",
       "    <tr>\n",
       "      <th>16566</th>\n",
       "      <td>SID99611</td>\n",
       "      <td>0</td>\n",
       "      <td>70.0</td>\n",
       "      <td>2</td>\n",
       "      <td>7</td>\n",
       "      <td>18</td>\n",
       "      <td>2013</td>\n",
       "      <td>NaN</td>\n",
       "      <td>0</td>\n",
       "      <td>2147745792</td>\n",
       "      <td>NaN</td>\n",
       "      <td>21</td>\n",
       "    </tr>\n",
       "    <tr>\n",
       "      <th>16567</th>\n",
       "      <td>SID99741</td>\n",
       "      <td>0</td>\n",
       "      <td>70.0</td>\n",
       "      <td>2</td>\n",
       "      <td>49</td>\n",
       "      <td>23</td>\n",
       "      <td>97</td>\n",
       "      <td>21.0</td>\n",
       "      <td>0</td>\n",
       "      <td>2147753984</td>\n",
       "      <td>NaN</td>\n",
       "      <td>17</td>\n",
       "    </tr>\n",
       "    <tr>\n",
       "      <th>16568</th>\n",
       "      <td>SID99756</td>\n",
       "      <td>0</td>\n",
       "      <td>70.0</td>\n",
       "      <td>10</td>\n",
       "      <td>29</td>\n",
       "      <td>19</td>\n",
       "      <td>1844</td>\n",
       "      <td>NaN</td>\n",
       "      <td>1</td>\n",
       "      <td>262144</td>\n",
       "      <td>NaN</td>\n",
       "      <td>17</td>\n",
       "    </tr>\n",
       "    <tr>\n",
       "      <th>16569</th>\n",
       "      <td>SID9979</td>\n",
       "      <td>0</td>\n",
       "      <td>90.0</td>\n",
       "      <td>7</td>\n",
       "      <td>106</td>\n",
       "      <td>5</td>\n",
       "      <td>1205</td>\n",
       "      <td>NaN</td>\n",
       "      <td>1</td>\n",
       "      <td>2883584</td>\n",
       "      <td>NaN</td>\n",
       "      <td>21</td>\n",
       "    </tr>\n",
       "  </tbody>\n",
       "</table>\n",
       "<p>16570 rows × 12 columns</p>\n",
       "</div>"
      ],
      "text/plain": [
       "              id  num01  num02  cat01  cat02  cat03  cat04  cat05  cat06  \\\n",
       "0      SID100109      0   70.0      6     67     18    326    NaN      1   \n",
       "1      SID100255     35    NaN      2     49     24    263    9.0      1   \n",
       "2      SID100284      0   60.0      0    105     23   1594    NaN      0   \n",
       "3      SID100315     12   70.0      7     19     23   1590    NaN      0   \n",
       "4      SID100374      0   70.0      3     24     34   1969    NaN      1   \n",
       "...          ...    ...    ...    ...    ...    ...    ...    ...    ...   \n",
       "16565   SID99558      0   80.0      9     17     29   1770    NaN      0   \n",
       "16566   SID99611      0   70.0      2      7     18   2013    NaN      0   \n",
       "16567   SID99741      0   70.0      2     49     23     97   21.0      0   \n",
       "16568   SID99756      0   70.0     10     29     19   1844    NaN      1   \n",
       "16569    SID9979      0   90.0      7    106      5   1205    NaN      1   \n",
       "\n",
       "            cat07  cat08  target  \n",
       "0      2147745792    NaN      21  \n",
       "1          790528    4.0      21  \n",
       "2      2147745792    NaN      19  \n",
       "3      2147745824    4.0      25  \n",
       "4            2048    NaN      19  \n",
       "...           ...    ...     ...  \n",
       "16565  2147746304    NaN      17  \n",
       "16566  2147745792    NaN      21  \n",
       "16567  2147753984    NaN      17  \n",
       "16568      262144    NaN      17  \n",
       "16569     2883584    NaN      21  \n",
       "\n",
       "[16570 rows x 12 columns]"
      ]
     },
     "execution_count": 4,
     "metadata": {},
     "output_type": "execute_result"
    }
   ],
   "source": [
    "train"
   ]
  },
  {
   "cell_type": "code",
   "execution_count": 5,
   "id": "1a0cd76f",
   "metadata": {
    "execution": {
     "iopub.execute_input": "2024-06-13T08:23:17.396022Z",
     "iopub.status.busy": "2024-06-13T08:23:17.395742Z",
     "iopub.status.idle": "2024-06-13T08:23:17.405056Z",
     "shell.execute_reply": "2024-06-13T08:23:17.404173Z"
    },
    "papermill": {
     "duration": 0.022331,
     "end_time": "2024-06-13T08:23:17.407053",
     "exception": false,
     "start_time": "2024-06-13T08:23:17.384722",
     "status": "completed"
    },
    "tags": []
   },
   "outputs": [],
   "source": [
    "X_train = train.drop(columns=['id','target'])\n",
    "y_train = train.target\n",
    "X_test = test.drop(columns=['id'])\n",
    "X = pd.concat([X_train,X_test])"
   ]
  },
  {
   "cell_type": "code",
   "execution_count": 6,
   "id": "c990afad",
   "metadata": {
    "execution": {
     "iopub.execute_input": "2024-06-13T08:23:17.429041Z",
     "iopub.status.busy": "2024-06-13T08:23:17.428798Z",
     "iopub.status.idle": "2024-06-13T08:23:17.838019Z",
     "shell.execute_reply": "2024-06-13T08:23:17.837190Z"
    },
    "papermill": {
     "duration": 0.422402,
     "end_time": "2024-06-13T08:23:17.840254",
     "exception": false,
     "start_time": "2024-06-13T08:23:17.417852",
     "status": "completed"
    },
    "tags": []
   },
   "outputs": [],
   "source": [
    "from sklearn.experimental import enable_iterative_imputer\n",
    "from sklearn.impute import IterativeImputer\n",
    "imputer = IterativeImputer(max_iter=10)\n",
    "X[['num02']] = imputer.fit_transform(X[['num02']])"
   ]
  },
  {
   "cell_type": "code",
   "execution_count": 7,
   "id": "0c0c6b30",
   "metadata": {
    "execution": {
     "iopub.execute_input": "2024-06-13T08:23:17.863038Z",
     "iopub.status.busy": "2024-06-13T08:23:17.862747Z",
     "iopub.status.idle": "2024-06-13T08:23:17.867835Z",
     "shell.execute_reply": "2024-06-13T08:23:17.866874Z"
    },
    "papermill": {
     "duration": 0.018226,
     "end_time": "2024-06-13T08:23:17.869818",
     "exception": false,
     "start_time": "2024-06-13T08:23:17.851592",
     "status": "completed"
    },
    "tags": []
   },
   "outputs": [],
   "source": [
    "X['cat05'].fillna(-9999, inplace=True)"
   ]
  },
  {
   "cell_type": "code",
   "execution_count": 8,
   "id": "72d1b40c",
   "metadata": {
    "execution": {
     "iopub.execute_input": "2024-06-13T08:23:17.891205Z",
     "iopub.status.busy": "2024-06-13T08:23:17.890948Z",
     "iopub.status.idle": "2024-06-13T08:23:17.895505Z",
     "shell.execute_reply": "2024-06-13T08:23:17.894789Z"
    },
    "papermill": {
     "duration": 0.017452,
     "end_time": "2024-06-13T08:23:17.897494",
     "exception": false,
     "start_time": "2024-06-13T08:23:17.880042",
     "status": "completed"
    },
    "tags": []
   },
   "outputs": [],
   "source": [
    "X['cat08'].fillna(-9999, inplace=True)"
   ]
  },
  {
   "cell_type": "code",
   "execution_count": 9,
   "id": "8acec4e3",
   "metadata": {
    "execution": {
     "iopub.execute_input": "2024-06-13T08:23:17.918880Z",
     "iopub.status.busy": "2024-06-13T08:23:17.918613Z",
     "iopub.status.idle": "2024-06-13T08:23:18.307900Z",
     "shell.execute_reply": "2024-06-13T08:23:18.307019Z"
    },
    "papermill": {
     "duration": 0.402224,
     "end_time": "2024-06-13T08:23:18.309977",
     "exception": false,
     "start_time": "2024-06-13T08:23:17.907753",
     "status": "completed"
    },
    "tags": []
   },
   "outputs": [
    {
     "data": {
      "image/png": "[encoded data removed]",
      "text/plain": [
       "<Figure size 1000x600 with 1 Axes>"
      ]
     },
     "metadata": {},
     "output_type": "display_data"
    }
   ],
   "source": [
    "correlation_matrix = X.corrwith(y_train)\n",
    "plt.figure(figsize=(10, 6))\n",
    "correlation_matrix.sort_values(ascending=False).plot(kind='bar', color='skyblue')\n",
    "plt.title('Feature Correlations with Target')\n",
    "plt.ylabel('Correlation Coefficient')\n",
    "plt.xlabel('Features')\n",
    "plt.xticks(rotation=45)\n",
    "plt.show()"
   ]
  },
  {
   "cell_type": "code",
   "execution_count": 10,
   "id": "0d591f94",
   "metadata": {
    "execution": {
     "iopub.execute_input": "2024-06-13T08:23:18.332641Z",
     "iopub.status.busy": "2024-06-13T08:23:18.332343Z",
     "iopub.status.idle": "2024-06-13T08:23:18.342329Z",
     "shell.execute_reply": "2024-06-13T08:23:18.341676Z"
    },
    "papermill": {
     "duration": 0.023326,
     "end_time": "2024-06-13T08:23:18.344214",
     "exception": false,
     "start_time": "2024-06-13T08:23:18.320888",
     "status": "completed"
    },
    "tags": []
   },
   "outputs": [],
   "source": [
    "X['num01*num02']= X['num01']*X['num02']\n",
    "X['num01+num02']=X['num01']+X['num02']\n",
    "X['num01-num02']=X['num01']-X['num02']\n",
    "X['num01*cat08']= X['num01']*X['cat08']\n",
    "X['num01*cat05']= X['num01']*X['cat05']\n",
    "X['num01*cat02']= X['num01']*X['cat02']"
   ]
  },
  {
   "cell_type": "code",
   "execution_count": 11,
   "id": "a53d59ea",
   "metadata": {
    "execution": {
     "iopub.execute_input": "2024-06-13T08:23:18.367048Z",
     "iopub.status.busy": "2024-06-13T08:23:18.366425Z",
     "iopub.status.idle": "2024-06-13T08:23:18.384534Z",
     "shell.execute_reply": "2024-06-13T08:23:18.383826Z"
    },
    "papermill": {
     "duration": 0.031205,
     "end_time": "2024-06-13T08:23:18.386276",
     "exception": false,
     "start_time": "2024-06-13T08:23:18.355071",
     "status": "completed"
    },
    "tags": []
   },
   "outputs": [],
   "source": [
    "# 범주형 feature와 수치형 feature를 선택합니다.\n",
    "categorical_feature = 'cat08'  # 범주형 feature의 이름\n",
    "numeric_feature = 'num01'     # 수치형 feature의 이름\n",
    "\n",
    "# 범주별로 수치형 feature의 평균을 계산합니다.\n",
    "mean_by_category = X.groupby(categorical_feature)[numeric_feature].mean()\n",
    "new_numeric_feature_name = f\"Mean_{numeric_feature}_By_{categorical_feature}\"\n",
    "new = mean_by_category.reset_index().rename(columns={numeric_feature: new_numeric_feature_name})\n",
    "X = X.merge(new, how='left', on=categorical_feature)"
   ]
  },
  {
   "cell_type": "code",
   "execution_count": 12,
   "id": "f1f6dd44",
   "metadata": {
    "execution": {
     "iopub.execute_input": "2024-06-13T08:23:18.408851Z",
     "iopub.status.busy": "2024-06-13T08:23:18.408607Z",
     "iopub.status.idle": "2024-06-13T08:23:18.421289Z",
     "shell.execute_reply": "2024-06-13T08:23:18.420566Z"
    },
    "papermill": {
     "duration": 0.026018,
     "end_time": "2024-06-13T08:23:18.423158",
     "exception": false,
     "start_time": "2024-06-13T08:23:18.397140",
     "status": "completed"
    },
    "tags": []
   },
   "outputs": [],
   "source": [
    "# 범주형 feature와 수치형 feature를 선택합니다.\n",
    "categorical_feature = 'cat08'  # 범주형 feature의 이름\n",
    "numeric_feature = 'num02'     # 수치형 feature의 이름\n",
    "\n",
    "# 범주별로 수치형 feature의 평균을 계산합니다.\n",
    "mean_by_category = X.groupby(categorical_feature)[numeric_feature].mean()\n",
    "new_numeric_feature_name = f\"Mean_{numeric_feature}_By_{categorical_feature}\"\n",
    "new = mean_by_category.reset_index().rename(columns={numeric_feature: new_numeric_feature_name})\n",
    "X = X.merge(new, how='left', on=categorical_feature)"
   ]
  },
  {
   "cell_type": "code",
   "execution_count": 13,
   "id": "ff9523af",
   "metadata": {
    "execution": {
     "iopub.execute_input": "2024-06-13T08:23:18.445784Z",
     "iopub.status.busy": "2024-06-13T08:23:18.445532Z",
     "iopub.status.idle": "2024-06-13T08:23:18.456680Z",
     "shell.execute_reply": "2024-06-13T08:23:18.455981Z"
    },
    "papermill": {
     "duration": 0.024752,
     "end_time": "2024-06-13T08:23:18.458689",
     "exception": false,
     "start_time": "2024-06-13T08:23:18.433937",
     "status": "completed"
    },
    "tags": []
   },
   "outputs": [],
   "source": [
    "# 범주형 feature와 수치형 feature를 선택합니다.\n",
    "categorical_feature = 'cat01'  # 범주형 feature의 이름\n",
    "numeric_feature = 'num01'     # 수치형 feature의 이름\n",
    "\n",
    "# 범주별로 수치형 feature의 평균을 계산합니다.\n",
    "mean_by_category = X.groupby(categorical_feature)[numeric_feature].mean()\n",
    "new_numeric_feature_name = f\"Mean_{numeric_feature}_By_{categorical_feature}\"\n",
    "new = mean_by_category.reset_index().rename(columns={numeric_feature: new_numeric_feature_name})\n",
    "X = X.merge(new, how='left', on=categorical_feature)"
   ]
  },
  {
   "cell_type": "code",
   "execution_count": 14,
   "id": "9a68494d",
   "metadata": {
    "execution": {
     "iopub.execute_input": "2024-06-13T08:23:18.481386Z",
     "iopub.status.busy": "2024-06-13T08:23:18.481149Z",
     "iopub.status.idle": "2024-06-13T08:23:18.492409Z",
     "shell.execute_reply": "2024-06-13T08:23:18.491745Z"
    },
    "papermill": {
     "duration": 0.024323,
     "end_time": "2024-06-13T08:23:18.494284",
     "exception": false,
     "start_time": "2024-06-13T08:23:18.469961",
     "status": "completed"
    },
    "tags": []
   },
   "outputs": [],
   "source": [
    "# 범주형 feature와 수치형 feature를 선택합니다.\n",
    "categorical_feature = 'cat01'  # 범주형 feature의 이름\n",
    "numeric_feature = 'num02'     # 수치형 feature의 이름\n",
    "\n",
    "# 범주별로 수치형 feature의 평균을 계산합니다.\n",
    "mean_by_category = X.groupby(categorical_feature)[numeric_feature].mean()\n",
    "new_numeric_feature_name = f\"Mean_{numeric_feature}_By_{categorical_feature}\"\n",
    "new = mean_by_category.reset_index().rename(columns={numeric_feature: new_numeric_feature_name})\n",
    "X = X.merge(new, how='left', on=categorical_feature)"
   ]
  },
  {
   "cell_type": "code",
   "execution_count": 15,
   "id": "f14d617c",
   "metadata": {
    "execution": {
     "iopub.execute_input": "2024-06-13T08:23:18.517083Z",
     "iopub.status.busy": "2024-06-13T08:23:18.516817Z",
     "iopub.status.idle": "2024-06-13T08:23:18.528344Z",
     "shell.execute_reply": "2024-06-13T08:23:18.527443Z"
    },
    "papermill": {
     "duration": 0.025321,
     "end_time": "2024-06-13T08:23:18.530340",
     "exception": false,
     "start_time": "2024-06-13T08:23:18.505019",
     "status": "completed"
    },
    "tags": []
   },
   "outputs": [],
   "source": [
    "# 범주형 feature와 수치형 feature를 선택합니다.\n",
    "categorical_feature = 'cat02'  # 범주형 feature의 이름\n",
    "numeric_feature = 'num01'     # 수치형 feature의 이름\n",
    "\n",
    "# 범주별로 수치형 feature의 평균을 계산합니다.\n",
    "mean_by_category = X.groupby(categorical_feature)[numeric_feature].mean()\n",
    "new_numeric_feature_name = f\"Mean_{numeric_feature}_By_{categorical_feature}\"\n",
    "new = mean_by_category.reset_index().rename(columns={numeric_feature: new_numeric_feature_name})\n",
    "X = X.merge(new, how='left', on=categorical_feature)"
   ]
  },
  {
   "cell_type": "code",
   "execution_count": 16,
   "id": "93b3d363",
   "metadata": {
    "execution": {
     "iopub.execute_input": "2024-06-13T08:23:18.552927Z",
     "iopub.status.busy": "2024-06-13T08:23:18.552663Z",
     "iopub.status.idle": "2024-06-13T08:23:18.566339Z",
     "shell.execute_reply": "2024-06-13T08:23:18.565443Z"
    },
    "papermill": {
     "duration": 0.027393,
     "end_time": "2024-06-13T08:23:18.568519",
     "exception": false,
     "start_time": "2024-06-13T08:23:18.541126",
     "status": "completed"
    },
    "tags": []
   },
   "outputs": [],
   "source": [
    "# 범주형 feature와 수치형 feature를 선택합니다.\n",
    "categorical_feature = 'cat02'  # 범주형 feature의 이름\n",
    "numeric_feature = 'num02'     # 수치형 feature의 이름\n",
    "\n",
    "# 범주별로 수치형 feature의 평균을 계산합니다.\n",
    "mean_by_category = X.groupby(categorical_feature)[numeric_feature].mean()\n",
    "new_numeric_feature_name = f\"Mean_{numeric_feature}_By_{categorical_feature}\"\n",
    "new = mean_by_category.reset_index().rename(columns={numeric_feature: new_numeric_feature_name})\n",
    "X = X.merge(new, how='left', on=categorical_feature)"
   ]
  },
  {
   "cell_type": "code",
   "execution_count": 17,
   "id": "47af8b53",
   "metadata": {
    "execution": {
     "iopub.execute_input": "2024-06-13T08:23:18.591835Z",
     "iopub.status.busy": "2024-06-13T08:23:18.591585Z",
     "iopub.status.idle": "2024-06-13T08:23:18.608438Z",
     "shell.execute_reply": "2024-06-13T08:23:18.607680Z"
    },
    "papermill": {
     "duration": 0.030265,
     "end_time": "2024-06-13T08:23:18.610441",
     "exception": false,
     "start_time": "2024-06-13T08:23:18.580176",
     "status": "completed"
    },
    "tags": []
   },
   "outputs": [],
   "source": [
    "# 범주형 feature와 수치형 feature를 선택합니다.\n",
    "categorical_feature = 'cat03'  # 범주형 feature의 이름\n",
    "numeric_feature = 'num01'     # 수치형 feature의 이름\n",
    "\n",
    "# 범주별로 수치형 feature의 평균을 계산합니다.\n",
    "mean_by_category = X.groupby(categorical_feature)[numeric_feature].mean()\n",
    "new_numeric_feature_name = f\"Mean_{numeric_feature}_By_{categorical_feature}\"\n",
    "new = mean_by_category.reset_index().rename(columns={numeric_feature: new_numeric_feature_name})\n",
    "X = X.merge(new, how='left', on=categorical_feature)"
   ]
  },
  {
   "cell_type": "code",
   "execution_count": 18,
   "id": "d4dc562d",
   "metadata": {
    "execution": {
     "iopub.execute_input": "2024-06-13T08:23:18.632876Z",
     "iopub.status.busy": "2024-06-13T08:23:18.632625Z",
     "iopub.status.idle": "2024-06-13T08:23:18.648544Z",
     "shell.execute_reply": "2024-06-13T08:23:18.647794Z"
    },
    "papermill": {
     "duration": 0.029116,
     "end_time": "2024-06-13T08:23:18.650501",
     "exception": false,
     "start_time": "2024-06-13T08:23:18.621385",
     "status": "completed"
    },
    "tags": []
   },
   "outputs": [],
   "source": [
    "# 범주형 feature와 수치형 feature를 선택합니다.\n",
    "categorical_feature = 'cat03'  # 범주형 feature의 이름\n",
    "numeric_feature = 'num02'     # 수치형 feature의 이름\n",
    "\n",
    "# 범주별로 수치형 feature의 평균을 계산합니다.\n",
    "mean_by_category = X.groupby(categorical_feature)[numeric_feature].mean()\n",
    "new_numeric_feature_name = f\"Mean_{numeric_feature}_By_{categorical_feature}\"\n",
    "new = mean_by_category.reset_index().rename(columns={numeric_feature: new_numeric_feature_name})\n",
    "X = X.merge(new, how='left', on=categorical_feature)"
   ]
  },
  {
   "cell_type": "code",
   "execution_count": 19,
   "id": "f42dc1ee",
   "metadata": {
    "execution": {
     "iopub.execute_input": "2024-06-13T08:23:18.672993Z",
     "iopub.status.busy": "2024-06-13T08:23:18.672726Z",
     "iopub.status.idle": "2024-06-13T08:23:18.688325Z",
     "shell.execute_reply": "2024-06-13T08:23:18.687688Z"
    },
    "papermill": {
     "duration": 0.028886,
     "end_time": "2024-06-13T08:23:18.690271",
     "exception": false,
     "start_time": "2024-06-13T08:23:18.661385",
     "status": "completed"
    },
    "tags": []
   },
   "outputs": [],
   "source": [
    "# 범주형 feature와 수치형 feature를 선택합니다.\n",
    "categorical_feature = 'cat05'  # 범주형 feature의 이름\n",
    "numeric_feature = 'num01'     # 수치형 feature의 이름\n",
    "\n",
    "# 범주별로 수치형 feature의 평균을 계산합니다.\n",
    "mean_by_category = X.groupby(categorical_feature)[numeric_feature].mean()\n",
    "new_numeric_feature_name = f\"Mean_{numeric_feature}_By_{categorical_feature}\"\n",
    "new = mean_by_category.reset_index().rename(columns={numeric_feature: new_numeric_feature_name})\n",
    "X = X.merge(new, how='left', on=categorical_feature)"
   ]
  },
  {
   "cell_type": "code",
   "execution_count": 20,
   "id": "72e71f43",
   "metadata": {
    "execution": {
     "iopub.execute_input": "2024-06-13T08:23:18.712389Z",
     "iopub.status.busy": "2024-06-13T08:23:18.712114Z",
     "iopub.status.idle": "2024-06-13T08:23:18.727163Z",
     "shell.execute_reply": "2024-06-13T08:23:18.726439Z"
    },
    "papermill": {
     "duration": 0.02808,
     "end_time": "2024-06-13T08:23:18.729002",
     "exception": false,
     "start_time": "2024-06-13T08:23:18.700922",
     "status": "completed"
    },
    "tags": []
   },
   "outputs": [],
   "source": [
    "# 범주형 feature와 수치형 feature를 선택합니다.\n",
    "categorical_feature = 'cat05'  # 범주형 feature의 이름\n",
    "numeric_feature = 'num02'     # 수치형 feature의 이름\n",
    "\n",
    "# 범주별로 수치형 feature의 평균을 계산합니다.\n",
    "mean_by_category = X.groupby(categorical_feature)[numeric_feature].mean()\n",
    "new_numeric_feature_name = f\"Mean_{numeric_feature}_By_{categorical_feature}\"\n",
    "new = mean_by_category.reset_index().rename(columns={numeric_feature: new_numeric_feature_name})\n",
    "X = X.merge(new, how='left', on=categorical_feature)"
   ]
  },
  {
   "cell_type": "code",
   "execution_count": 21,
   "id": "ff53f905",
   "metadata": {
    "execution": {
     "iopub.execute_input": "2024-06-13T08:23:18.751123Z",
     "iopub.status.busy": "2024-06-13T08:23:18.750860Z",
     "iopub.status.idle": "2024-06-13T08:23:18.766151Z",
     "shell.execute_reply": "2024-06-13T08:23:18.765317Z"
    },
    "papermill": {
     "duration": 0.028583,
     "end_time": "2024-06-13T08:23:18.768200",
     "exception": false,
     "start_time": "2024-06-13T08:23:18.739617",
     "status": "completed"
    },
    "tags": []
   },
   "outputs": [],
   "source": [
    "# 범주형 feature와 수치형 feature를 선택합니다.\n",
    "categorical_feature = 'cat06'  # 범주형 feature의 이름\n",
    "numeric_feature = 'num01'     # 수치형 feature의 이름\n",
    "\n",
    "# 범주별로 수치형 feature의 평균을 계산합니다.\n",
    "mean_by_category = X.groupby(categorical_feature)[numeric_feature].mean()\n",
    "new_numeric_feature_name = f\"Mean_{numeric_feature}_By_{categorical_feature}\"\n",
    "new = mean_by_category.reset_index().rename(columns={numeric_feature: new_numeric_feature_name})\n",
    "X = X.merge(new, how='left', on=categorical_feature)"
   ]
  },
  {
   "cell_type": "code",
   "execution_count": 22,
   "id": "3c150558",
   "metadata": {
    "execution": {
     "iopub.execute_input": "2024-06-13T08:23:18.790320Z",
     "iopub.status.busy": "2024-06-13T08:23:18.790057Z",
     "iopub.status.idle": "2024-06-13T08:23:18.805857Z",
     "shell.execute_reply": "2024-06-13T08:23:18.805182Z"
    },
    "papermill": {
     "duration": 0.028846,
     "end_time": "2024-06-13T08:23:18.807752",
     "exception": false,
     "start_time": "2024-06-13T08:23:18.778906",
     "status": "completed"
    },
    "tags": []
   },
   "outputs": [],
   "source": [
    "# 범주형 feature와 수치형 feature를 선택합니다.\n",
    "categorical_feature = 'cat06'  # 범주형 feature의 이름\n",
    "numeric_feature = 'num02'     # 수치형 feature의 이름\n",
    "\n",
    "# 범주별로 수치형 feature의 평균을 계산합니다.\n",
    "mean_by_category = X.groupby(categorical_feature)[numeric_feature].mean()\n",
    "new_numeric_feature_name = f\"Mean_{numeric_feature}_By_{categorical_feature}\"\n",
    "new = mean_by_category.reset_index().rename(columns={numeric_feature: new_numeric_feature_name})\n",
    "X = X.merge(new, how='left', on=categorical_feature)"
   ]
  },
  {
   "cell_type": "code",
   "execution_count": 23,
   "id": "4ca0a2a1",
   "metadata": {
    "execution": {
     "iopub.execute_input": "2024-06-13T08:23:18.829967Z",
     "iopub.status.busy": "2024-06-13T08:23:18.829720Z",
     "iopub.status.idle": "2024-06-13T08:23:18.844726Z",
     "shell.execute_reply": "2024-06-13T08:23:18.844071Z"
    },
    "papermill": {
     "duration": 0.028076,
     "end_time": "2024-06-13T08:23:18.846582",
     "exception": false,
     "start_time": "2024-06-13T08:23:18.818506",
     "status": "completed"
    },
    "tags": []
   },
   "outputs": [],
   "source": [
    "# 범주형 feature와 수치형 feature를 선택합니다.\n",
    "categorical_feature = 'cat07'  # 범주형 feature의 이름\n",
    "numeric_feature = 'num01'     # 수치형 feature의 이름\n",
    "\n",
    "# 범주별로 수치형 feature의 평균을 계산합니다.\n",
    "mean_by_category = X.groupby(categorical_feature)[numeric_feature].mean()\n",
    "new_numeric_feature_name = f\"Mean_{numeric_feature}_By_{categorical_feature}\"\n",
    "new = mean_by_category.reset_index().rename(columns={numeric_feature: new_numeric_feature_name})\n",
    "X = X.merge(new, how='left', on=categorical_feature)"
   ]
  },
  {
   "cell_type": "code",
   "execution_count": 24,
   "id": "9e0c179c",
   "metadata": {
    "execution": {
     "iopub.execute_input": "2024-06-13T08:23:18.868652Z",
     "iopub.status.busy": "2024-06-13T08:23:18.868383Z",
     "iopub.status.idle": "2024-06-13T08:23:18.884908Z",
     "shell.execute_reply": "2024-06-13T08:23:18.884206Z"
    },
    "papermill": {
     "duration": 0.03002,
     "end_time": "2024-06-13T08:23:18.887199",
     "exception": false,
     "start_time": "2024-06-13T08:23:18.857179",
     "status": "completed"
    },
    "tags": []
   },
   "outputs": [],
   "source": [
    "# 범주형 feature와 수치형 feature를 선택합니다.\n",
    "categorical_feature = 'cat07'  # 범주형 feature의 이름\n",
    "numeric_feature = 'num02'     # 수치형 feature의 이름\n",
    "\n",
    "# 범주별로 수치형 feature의 평균을 계산합니다.\n",
    "mean_by_category = X.groupby(categorical_feature)[numeric_feature].mean()\n",
    "new_numeric_feature_name = f\"Mean_{numeric_feature}_By_{categorical_feature}\"\n",
    "new = mean_by_category.reset_index().rename(columns={numeric_feature: new_numeric_feature_name})\n",
    "X = X.merge(new, how='left', on=categorical_feature)"
   ]
  },
  {
   "cell_type": "code",
   "execution_count": 25,
   "id": "b5fbb490",
   "metadata": {
    "execution": {
     "iopub.execute_input": "2024-06-13T08:23:18.909772Z",
     "iopub.status.busy": "2024-06-13T08:23:18.909281Z",
     "iopub.status.idle": "2024-06-13T08:23:18.924385Z",
     "shell.execute_reply": "2024-06-13T08:23:18.923736Z"
    },
    "papermill": {
     "duration": 0.028282,
     "end_time": "2024-06-13T08:23:18.926294",
     "exception": false,
     "start_time": "2024-06-13T08:23:18.898012",
     "status": "completed"
    },
    "tags": []
   },
   "outputs": [],
   "source": [
    "# 범주형 feature와 수치형 feature를 선택합니다.\n",
    "categorical_feature = 'cat04'  # 범주형 feature의 이름\n",
    "numeric_feature = 'num01'     # 수치형 feature의 이름\n",
    "\n",
    "# 범주별로 수치형 feature의 평균을 계산합니다.\n",
    "mean_by_category = X.groupby(categorical_feature)[numeric_feature].mean()\n",
    "new_numeric_feature_name = f\"Mean_{numeric_feature}_By_{categorical_feature}\"\n",
    "new = mean_by_category.reset_index().rename(columns={numeric_feature: new_numeric_feature_name})\n",
    "X = X.merge(new, how='left', on=categorical_feature)"
   ]
  },
  {
   "cell_type": "code",
   "execution_count": 26,
   "id": "85e241e6",
   "metadata": {
    "execution": {
     "iopub.execute_input": "2024-06-13T08:23:18.949070Z",
     "iopub.status.busy": "2024-06-13T08:23:18.948517Z",
     "iopub.status.idle": "2024-06-13T08:23:18.963590Z",
     "shell.execute_reply": "2024-06-13T08:23:18.962936Z"
    },
    "papermill": {
     "duration": 0.028447,
     "end_time": "2024-06-13T08:23:18.965550",
     "exception": false,
     "start_time": "2024-06-13T08:23:18.937103",
     "status": "completed"
    },
    "tags": []
   },
   "outputs": [],
   "source": [
    "# 범주형 feature와 수치형 feature를 선택합니다.\n",
    "categorical_feature = 'cat04'  # 범주형 feature의 이름\n",
    "numeric_feature = 'num02'     # 수치형 feature의 이름\n",
    "\n",
    "# 범주별로 수치형 feature의 평균을 계산합니다.\n",
    "mean_by_category = X.groupby(categorical_feature)[numeric_feature].mean()\n",
    "new_numeric_feature_name = f\"Mean_{numeric_feature}_By_{categorical_feature}\"\n",
    "new = mean_by_category.reset_index().rename(columns={numeric_feature: new_numeric_feature_name})\n",
    "X = X.merge(new, how='left', on=categorical_feature)"
   ]
  },
  {
   "cell_type": "code",
   "execution_count": 27,
   "id": "3958bcea",
   "metadata": {
    "execution": {
     "iopub.execute_input": "2024-06-13T08:23:18.987817Z",
     "iopub.status.busy": "2024-06-13T08:23:18.987553Z",
     "iopub.status.idle": "2024-06-13T08:23:18.992645Z",
     "shell.execute_reply": "2024-06-13T08:23:18.991878Z"
    },
    "papermill": {
     "duration": 0.018366,
     "end_time": "2024-06-13T08:23:18.994643",
     "exception": false,
     "start_time": "2024-06-13T08:23:18.976277",
     "status": "completed"
    },
    "tags": []
   },
   "outputs": [],
   "source": [
    "X['log_num01'] = np.log1p(X['num01'])"
   ]
  },
  {
   "cell_type": "code",
   "execution_count": 28,
   "id": "cb696fbc",
   "metadata": {
    "execution": {
     "iopub.execute_input": "2024-06-13T08:23:19.016977Z",
     "iopub.status.busy": "2024-06-13T08:23:19.016687Z",
     "iopub.status.idle": "2024-06-13T08:23:19.022437Z",
     "shell.execute_reply": "2024-06-13T08:23:19.021589Z"
    },
    "papermill": {
     "duration": 0.018941,
     "end_time": "2024-06-13T08:23:19.024293",
     "exception": false,
     "start_time": "2024-06-13T08:23:19.005352",
     "status": "completed"
    },
    "tags": []
   },
   "outputs": [
    {
     "data": {
      "text/plain": [
       "Index(['num01', 'num02', 'cat01', 'cat02', 'cat03', 'cat04', 'cat05', 'cat06',\n",
       "       'cat07', 'cat08', 'num01*num02', 'num01+num02', 'num01-num02',\n",
       "       'num01*cat08', 'num01*cat05', 'num01*cat02', 'Mean_num01_By_cat08',\n",
       "       'Mean_num02_By_cat08', 'Mean_num01_By_cat01', 'Mean_num02_By_cat01',\n",
       "       'Mean_num01_By_cat02', 'Mean_num02_By_cat02', 'Mean_num01_By_cat03',\n",
       "       'Mean_num02_By_cat03', 'Mean_num01_By_cat05', 'Mean_num02_By_cat05',\n",
       "       'Mean_num01_By_cat06', 'Mean_num02_By_cat06', 'Mean_num01_By_cat07',\n",
       "       'Mean_num02_By_cat07', 'Mean_num01_By_cat04', 'Mean_num02_By_cat04',\n",
       "       'log_num01'],\n",
       "      dtype='object')"
      ]
     },
     "execution_count": 28,
     "metadata": {},
     "output_type": "execute_result"
    }
   ],
   "source": [
    "X.columns"
   ]
  },
  {
   "cell_type": "code",
   "execution_count": 29,
   "id": "98bc020e",
   "metadata": {
    "execution": {
     "iopub.execute_input": "2024-06-13T08:23:19.046892Z",
     "iopub.status.busy": "2024-06-13T08:23:19.046641Z",
     "iopub.status.idle": "2024-06-13T08:23:19.051339Z",
     "shell.execute_reply": "2024-06-13T08:23:19.050569Z"
    },
    "papermill": {
     "duration": 0.01818,
     "end_time": "2024-06-13T08:23:19.053248",
     "exception": false,
     "start_time": "2024-06-13T08:23:19.035068",
     "status": "completed"
    },
    "tags": []
   },
   "outputs": [],
   "source": [
    "con = ['num01', 'num02', 'cat04', 'num01*num02', 'num01+num02', 'num01-num02',\n",
    "       'num01*cat08', 'num01*cat05', 'num01*cat02', 'Mean_num01_By_cat08',\n",
    "       'Mean_num02_By_cat08', 'Mean_num01_By_cat01', 'Mean_num02_By_cat01',\n",
    "       'Mean_num01_By_cat02', 'Mean_num02_By_cat02', 'Mean_num01_By_cat03',\n",
    "       'Mean_num02_By_cat03', 'Mean_num01_By_cat05', 'Mean_num02_By_cat05',\n",
    "       'Mean_num01_By_cat06', 'Mean_num02_By_cat06', 'Mean_num01_By_cat07',\n",
    "       'Mean_num02_By_cat07', 'log_num01', 'Mean_num01_By_cat04',\n",
    "       'Mean_num02_By_cat04']"
   ]
  },
  {
   "cell_type": "code",
   "execution_count": 30,
   "id": "cebff4e4",
   "metadata": {
    "execution": {
     "iopub.execute_input": "2024-06-13T08:23:19.075752Z",
     "iopub.status.busy": "2024-06-13T08:23:19.075290Z",
     "iopub.status.idle": "2024-06-13T08:23:19.099761Z",
     "shell.execute_reply": "2024-06-13T08:23:19.099022Z"
    },
    "papermill": {
     "duration": 0.038082,
     "end_time": "2024-06-13T08:23:19.102041",
     "exception": false,
     "start_time": "2024-06-13T08:23:19.063959",
     "status": "completed"
    },
    "tags": []
   },
   "outputs": [],
   "source": [
    "from sklearn.preprocessing import MinMaxScaler\n",
    "scaler = MinMaxScaler()\n",
    "X[con] = scaler.fit(X[con]).transform(X[con])"
   ]
  },
  {
   "cell_type": "code",
   "execution_count": 31,
   "id": "75e57969",
   "metadata": {
    "execution": {
     "iopub.execute_input": "2024-06-13T08:23:19.126895Z",
     "iopub.status.busy": "2024-06-13T08:23:19.126629Z",
     "iopub.status.idle": "2024-06-13T08:23:19.131389Z",
     "shell.execute_reply": "2024-06-13T08:23:19.130480Z"
    },
    "papermill": {
     "duration": 0.019032,
     "end_time": "2024-06-13T08:23:19.133357",
     "exception": false,
     "start_time": "2024-06-13T08:23:19.114325",
     "status": "completed"
    },
    "tags": []
   },
   "outputs": [],
   "source": [
    "num_train = len(X_train)\n",
    "X_train = X[:num_train]\n",
    "X_test = X[num_train:]"
   ]
  },
  {
   "cell_type": "code",
   "execution_count": 32,
   "id": "cbb283b2",
   "metadata": {
    "execution": {
     "iopub.execute_input": "2024-06-13T08:23:19.157497Z",
     "iopub.status.busy": "2024-06-13T08:23:19.157178Z",
     "iopub.status.idle": "2024-06-13T08:23:22.828963Z",
     "shell.execute_reply": "2024-06-13T08:23:22.827981Z"
    },
    "papermill": {
     "duration": 3.686466,
     "end_time": "2024-06-13T08:23:22.831427",
     "exception": false,
     "start_time": "2024-06-13T08:23:19.144961",
     "status": "completed"
    },
    "tags": []
   },
   "outputs": [],
   "source": [
    "from sklearn.ensemble import VotingRegressor\n",
    "from xgboost import XGBRegressor\n",
    "from lightgbm import LGBMRegressor\n",
    "from catboost import CatBoostRegressor\n",
    "from sklearn.linear_model import LogisticRegression\n",
    "from sklearn.ensemble import RandomForestRegressor\n",
    "import optuna\n",
    "from sklearn.model_selection import cross_val_score\n",
    "from sklearn.model_selection import StratifiedKFold\n",
    "from sklearn.ensemble import StackingRegressor"
   ]
  },
  {
   "cell_type": "code",
   "execution_count": 33,
   "id": "93bcd576",
   "metadata": {
    "execution": {
     "iopub.execute_input": "2024-06-13T08:23:22.855125Z",
     "iopub.status.busy": "2024-06-13T08:23:22.854285Z",
     "iopub.status.idle": "2024-06-13T08:32:26.529354Z",
     "shell.execute_reply": "2024-06-13T08:32:26.528205Z"
    },
    "papermill": {
     "duration": 543.688881,
     "end_time": "2024-06-13T08:32:26.531550",
     "exception": false,
     "start_time": "2024-06-13T08:23:22.842669",
     "status": "completed"
    },
    "tags": []
   },
   "outputs": [
    {
     "name": "stderr",
     "output_type": "stream",
     "text": [
      "[I 2024-06-13 08:23:22,861] A new study created in memory with name: no-name-6748806e-3fa1-4c5d-87a8-2eb7a46982e1\n",
      "/opt/conda/lib/python3.10/site-packages/xgboost/core.py:160: UserWarning: [08:23:43] WARNING: /workspace/src/common/error_msg.cc:58: Falling back to prediction using DMatrix due to mismatched devices. This might lead to higher memory usage and slower performance. XGBoost is running on: cuda:0, while the input data is on: cpu.\n",
      "Potential solutions:\n",
      "- Use a data structure that matches the device ordinal in the booster.\n",
      "- Set the device for booster before call to inplace_predict.\n",
      "\n",
      "This warning will only be shown once.\n",
      "\n",
      "  warnings.warn(smsg, UserWarning)\n",
      "/opt/conda/lib/python3.10/site-packages/xgboost/core.py:160: UserWarning: [08:23:50] WARNING: /workspace/src/common/error_msg.cc:58: Falling back to prediction using DMatrix due to mismatched devices. This might lead to higher memory usage and slower performance. XGBoost is running on: cuda:0, while the input data is on: cpu.\n",
      "Potential solutions:\n",
      "- Use a data structure that matches the device ordinal in the booster.\n",
      "- Set the device for booster before call to inplace_predict.\n",
      "\n",
      "This warning will only be shown once.\n",
      "\n",
      "  warnings.warn(smsg, UserWarning)\n",
      "/opt/conda/lib/python3.10/site-packages/xgboost/core.py:160: UserWarning: [08:24:51] WARNING: /workspace/src/common/error_msg.cc:58: Falling back to prediction using DMatrix due to mismatched devices. This might lead to higher memory usage and slower performance. XGBoost is running on: cuda:0, while the input data is on: cpu.\n",
      "Potential solutions:\n",
      "- Use a data structure that matches the device ordinal in the booster.\n",
      "- Set the device for booster before call to inplace_predict.\n",
      "\n",
      "This warning will only be shown once.\n",
      "\n",
      "  warnings.warn(smsg, UserWarning)\n",
      "/opt/conda/lib/python3.10/site-packages/xgboost/core.py:160: UserWarning: [08:24:51] WARNING: /workspace/src/common/error_msg.cc:58: Falling back to prediction using DMatrix due to mismatched devices. This might lead to higher memory usage and slower performance. XGBoost is running on: cuda:0, while the input data is on: cpu.\n",
      "Potential solutions:\n",
      "- Use a data structure that matches the device ordinal in the booster.\n",
      "- Set the device for booster before call to inplace_predict.\n",
      "\n",
      "This warning will only be shown once.\n",
      "\n",
      "  warnings.warn(smsg, UserWarning)\n",
      "[I 2024-06-13 08:25:06,249] Trial 2 finished with value: 2.933859808282563 and parameters: {'n_estimators': 531, 'max_depth': 8, 'learning_rate': 0.01730983506901827, 'min_child_weight': 8, 'subsample': 0.6989479932756002, 'colsample_bytree': 0.5513151126440126, 'gamma': 2.247879501641572, 'reg_alpha': 1.4888212648645332e-06, 'reg_lambda': 0.007924777448470954}. Best is trial 2 with value: 2.933859808282563.\n",
      "[I 2024-06-13 08:25:41,086] Trial 3 finished with value: 2.9833771261507884 and parameters: {'n_estimators': 436, 'max_depth': 13, 'learning_rate': 0.035912346477109926, 'min_child_weight': 7, 'subsample': 0.6443519139931884, 'colsample_bytree': 0.9594530418347151, 'gamma': 4.234064753321142, 'reg_alpha': 0.0004232048061293971, 'reg_lambda': 0.013810307665583213}. Best is trial 2 with value: 2.933859808282563.\n",
      "[I 2024-06-13 08:26:00,403] Trial 1 finished with value: 3.188920280845829 and parameters: {'n_estimators': 967, 'max_depth': 3, 'learning_rate': 0.0007438991958718641, 'min_child_weight': 8, 'subsample': 0.7778475543097192, 'colsample_bytree': 0.7825579148372184, 'gamma': 4.763010266509281, 'reg_alpha': 2.1648870150858585e-06, 'reg_lambda': 0.15337748166298923}. Best is trial 2 with value: 2.933859808282563.\n",
      "[I 2024-06-13 08:27:09,862] Trial 0 finished with value: 3.231337940072354 and parameters: {'n_estimators': 722, 'max_depth': 14, 'learning_rate': 0.0005897002830568895, 'min_child_weight': 2, 'subsample': 0.7163324348223922, 'colsample_bytree': 0.5874327094741515, 'gamma': 1.5906177634391572, 'reg_alpha': 7.267207955520598e-08, 'reg_lambda': 2.3478211548431223e-06}. Best is trial 2 with value: 2.933859808282563.\n",
      "[I 2024-06-13 08:27:47,460] Trial 5 finished with value: 2.9645411834810314 and parameters: {'n_estimators': 347, 'max_depth': 4, 'learning_rate': 0.16458516735758857, 'min_child_weight': 10, 'subsample': 0.6138029219008768, 'colsample_bytree': 0.9959742967380398, 'gamma': 2.765141092765717, 'reg_alpha': 0.41279730712298074, 'reg_lambda': 3.462382531755325e-07}. Best is trial 2 with value: 2.933859808282563.\n",
      "[I 2024-06-13 08:27:55,012] Trial 6 finished with value: 3.4205228915976584 and parameters: {'n_estimators': 138, 'max_depth': 6, 'learning_rate': 0.0009373960080122835, 'min_child_weight': 4, 'subsample': 0.6101676220453296, 'colsample_bytree': 0.6685991748073165, 'gamma': 3.5382954872719945, 'reg_alpha': 1.8519399612634592e-06, 'reg_lambda': 1.9635199574996216e-05}. Best is trial 2 with value: 2.933859808282563.\n",
      "/opt/conda/lib/python3.10/site-packages/xgboost/core.py:160: UserWarning: [08:27:57] WARNING: /workspace/src/common/error_msg.cc:58: Falling back to prediction using DMatrix due to mismatched devices. This might lead to higher memory usage and slower performance. XGBoost is running on: cuda:0, while the input data is on: cpu.\n",
      "Potential solutions:\n",
      "- Use a data structure that matches the device ordinal in the booster.\n",
      "- Set the device for booster before call to inplace_predict.\n",
      "\n",
      "This warning will only be shown once.\n",
      "\n",
      "  warnings.warn(smsg, UserWarning)\n",
      "[I 2024-06-13 08:27:57,959] Trial 4 finished with value: 3.3471440300309503 and parameters: {'n_estimators': 738, 'max_depth': 13, 'learning_rate': 0.00030295373394571514, 'min_child_weight': 8, 'subsample': 0.8955982917626409, 'colsample_bytree': 0.8291389244700248, 'gamma': 1.7116004873367037, 'reg_alpha': 2.775071174421013e-06, 'reg_lambda': 0.20006184264829324}. Best is trial 2 with value: 2.933859808282563.\n",
      "[I 2024-06-13 08:28:12,363] Trial 7 finished with value: 3.434905877222528 and parameters: {'n_estimators': 464, 'max_depth': 7, 'learning_rate': 0.00022095905004099986, 'min_child_weight': 3, 'subsample': 0.9330576442846871, 'colsample_bytree': 0.8589881167601864, 'gamma': 2.5175664344692854, 'reg_alpha': 5.026718907446918e-07, 'reg_lambda': 0.00359777982073313}. Best is trial 2 with value: 2.933859808282563.\n",
      "[I 2024-06-13 08:28:20,561] Trial 8 finished with value: 2.9515201599630716 and parameters: {'n_estimators': 287, 'max_depth': 9, 'learning_rate': 0.010922430662503655, 'min_child_weight': 2, 'subsample': 0.8494128741783906, 'colsample_bytree': 0.7279494894762248, 'gamma': 4.196307932863338, 'reg_alpha': 3.605531632804613e-08, 'reg_lambda': 0.0003405679086596616}. Best is trial 2 with value: 2.933859808282563.\n",
      "[I 2024-06-13 08:28:34,428] Trial 9 finished with value: 3.2562955443437973 and parameters: {'n_estimators': 902, 'max_depth': 3, 'learning_rate': 0.0005555916030864465, 'min_child_weight': 10, 'subsample': 0.7498141746730802, 'colsample_bytree': 0.8393602918004223, 'gamma': 0.38398953256519264, 'reg_alpha': 0.21376195145576687, 'reg_lambda': 0.10192395680368654}. Best is trial 2 with value: 2.933859808282563.\n",
      "[I 2024-06-13 08:28:51,978] Trial 10 finished with value: 3.135807100452049 and parameters: {'n_estimators': 277, 'max_depth': 12, 'learning_rate': 0.0024065764984344826, 'min_child_weight': 9, 'subsample': 0.8433247885712656, 'colsample_bytree': 0.6737779419002299, 'gamma': 1.608912893904197, 'reg_alpha': 0.025655626926827532, 'reg_lambda': 1.9407638836043177e-05}. Best is trial 2 with value: 2.933859808282563.\n",
      "[I 2024-06-13 08:28:56,404] Trial 11 finished with value: 3.090849926746905 and parameters: {'n_estimators': 349, 'max_depth': 4, 'learning_rate': 0.00317466150793405, 'min_child_weight': 8, 'subsample': 0.6283527732111369, 'colsample_bytree': 0.5566371759916204, 'gamma': 0.5863031581842543, 'reg_alpha': 0.37963934841990044, 'reg_lambda': 0.04066664156843604}. Best is trial 2 with value: 2.933859808282563.\n",
      "[I 2024-06-13 08:29:51,782] Trial 12 finished with value: 3.004860390967444 and parameters: {'n_estimators': 735, 'max_depth': 14, 'learning_rate': 0.05225107216994468, 'min_child_weight': 9, 'subsample': 0.5974301322773519, 'colsample_bytree': 0.7547722635960405, 'gamma': 2.8229733267973858, 'reg_alpha': 1.0250442837528788e-06, 'reg_lambda': 0.01022132254632751}. Best is trial 2 with value: 2.933859808282563.\n",
      "[I 2024-06-13 08:30:09,929] Trial 13 finished with value: 2.9353912135278466 and parameters: {'n_estimators': 598, 'max_depth': 10, 'learning_rate': 0.006006862563880954, 'min_child_weight': 5, 'subsample': 0.5354165457710969, 'colsample_bytree': 0.5054966360842605, 'gamma': 0.14448440856378664, 'reg_alpha': 0.0008656230810703783, 'reg_lambda': 0.0002864336542056112}. Best is trial 2 with value: 2.933859808282563.\n",
      "[I 2024-06-13 08:30:34,488] Trial 14 finished with value: 2.9400390980119773 and parameters: {'n_estimators': 625, 'max_depth': 10, 'learning_rate': 0.012825905532408692, 'min_child_weight': 5, 'subsample': 0.8213180114461806, 'colsample_bytree': 0.5015569780743533, 'gamma': 3.4846422062437354, 'reg_alpha': 1.2078847036569145e-08, 'reg_lambda': 0.0006003221907888519}. Best is trial 2 with value: 2.933859808282563.\n",
      "[I 2024-06-13 08:30:54,348] Trial 15 finished with value: 2.943671837829923 and parameters: {'n_estimators': 616, 'max_depth': 10, 'learning_rate': 0.01765303249971574, 'min_child_weight': 5, 'subsample': 0.5059140752498724, 'colsample_bytree': 0.5111762607743996, 'gamma': 3.5731706220277, 'reg_alpha': 4.575648877538209e-08, 'reg_lambda': 0.0006434363494177515}. Best is trial 2 with value: 2.933859808282563.\n",
      "[I 2024-06-13 08:31:38,752] Trial 16 finished with value: 2.9456321364375375 and parameters: {'n_estimators': 577, 'max_depth': 10, 'learning_rate': 0.014848289314034705, 'min_child_weight': 1, 'subsample': 0.8224543337353516, 'colsample_bytree': 0.5057652103489969, 'gamma': 3.5923592499613926, 'reg_alpha': 2.0219952853558462e-08, 'reg_lambda': 0.0005482281052391977}. Best is trial 2 with value: 2.933859808282563.\n",
      "[I 2024-06-13 08:31:57,731] Trial 17 finished with value: 2.9343656484385146 and parameters: {'n_estimators': 591, 'max_depth': 10, 'learning_rate': 0.010471076222544133, 'min_child_weight': 5, 'subsample': 0.5099157515919913, 'colsample_bytree': 0.5031870322486452, 'gamma': 0.9122890377101119, 'reg_alpha': 0.0002089114789595998, 'reg_lambda': 0.0007118309868703534}. Best is trial 2 with value: 2.933859808282563.\n",
      "[I 2024-06-13 08:32:14,482] Trial 18 finished with value: 2.952376786569038 and parameters: {'n_estimators': 569, 'max_depth': 10, 'learning_rate': 0.024333590325941894, 'min_child_weight': 6, 'subsample': 0.5001953244728428, 'colsample_bytree': 0.5059456603107715, 'gamma': 0.9760666885047857, 'reg_alpha': 0.00011152027326783652, 'reg_lambda': 1.2749962010566936e-08}. Best is trial 2 with value: 2.933859808282563.\n",
      "[I 2024-06-13 08:32:26,523] Trial 19 finished with value: 3.078957736107697 and parameters: {'n_estimators': 576, 'max_depth': 8, 'learning_rate': 0.13998339365887227, 'min_child_weight': 6, 'subsample': 0.513876715341288, 'colsample_bytree': 0.6031992392590249, 'gamma': 1.0417324240055144, 'reg_alpha': 0.00011772603407841201, 'reg_lambda': 5.784424679985072e-05}. Best is trial 2 with value: 2.933859808282563.\n"
     ]
    },
    {
     "name": "stdout",
     "output_type": "stream",
     "text": [
      "Best score: 2.933859808282563\n",
      "Best trial: FrozenTrial(number=2, state=TrialState.COMPLETE, values=[2.933859808282563], datetime_start=datetime.datetime(2024, 6, 13, 8, 23, 22, 871765), datetime_complete=datetime.datetime(2024, 6, 13, 8, 25, 6, 248055), params={'n_estimators': 531, 'max_depth': 8, 'learning_rate': 0.01730983506901827, 'min_child_weight': 8, 'subsample': 0.6989479932756002, 'colsample_bytree': 0.5513151126440126, 'gamma': 2.247879501641572, 'reg_alpha': 1.4888212648645332e-06, 'reg_lambda': 0.007924777448470954}, user_attrs={}, system_attrs={}, intermediate_values={}, distributions={'n_estimators': IntDistribution(high=1000, log=False, low=100, step=1), 'max_depth': IntDistribution(high=15, log=False, low=3, step=1), 'learning_rate': FloatDistribution(high=0.3, log=True, low=0.0001, step=None), 'min_child_weight': IntDistribution(high=10, log=False, low=1, step=1), 'subsample': FloatDistribution(high=1.0, log=False, low=0.5, step=None), 'colsample_bytree': FloatDistribution(high=1.0, log=False, low=0.5, step=None), 'gamma': FloatDistribution(high=5.0, log=False, low=0.0, step=None), 'reg_alpha': FloatDistribution(high=1.0, log=True, low=1e-08, step=None), 'reg_lambda': FloatDistribution(high=1.0, log=True, low=1e-08, step=None)}, trial_id=2, value=None)\n"
     ]
    }
   ],
   "source": [
    "#xgboost\n",
    "def objective(trial):\n",
    "    param = {\n",
    "        'tree_method': 'hist',  # GPU 대신 사용할 트리 메서드\n",
    "        'device': 'cuda',\n",
    "        'n_estimators': trial.suggest_int('n_estimators', 100, 1000),\n",
    "        'max_depth': trial.suggest_int('max_depth', 3, 15),\n",
    "        'learning_rate': trial.suggest_float('learning_rate', 1e-4, 0.3, log=True),\n",
    "        'min_child_weight': trial.suggest_int('min_child_weight', 1, 10),\n",
    "        'subsample': trial.suggest_float('subsample', 0.5, 1.0),\n",
    "        'colsample_bytree': trial.suggest_float('colsample_bytree', 0.5, 1.0),\n",
    "        'gamma': trial.suggest_float('gamma', 0, 5),\n",
    "        'reg_alpha': trial.suggest_float('reg_alpha', 1e-8, 1.0, log=True),\n",
    "        'reg_lambda': trial.suggest_float('reg_lambda', 1e-8, 1.0, log=True),\n",
    "        'random_state': 42\n",
    "    }\n",
    "    \n",
    "    model = XGBRegressor(**param)\n",
    "    score = cross_val_score(model, X_train, y_train, scoring='neg_root_mean_squared_error', cv=5, n_jobs=-1)\n",
    "    mse = score.mean()*-1\n",
    "    return np.sqrt(mse)\n",
    "\n",
    "study = optuna.create_study(direction=\"minimize\")\n",
    "study.optimize(objective, n_trials=20, n_jobs=-1)\n",
    "\n",
    "print(\"Best score:\", study.best_value)\n",
    "print(\"Best trial:\", study.best_trial)"
   ]
  },
  {
   "cell_type": "code",
   "execution_count": 34,
   "id": "75718638",
   "metadata": {
    "execution": {
     "iopub.execute_input": "2024-06-13T08:32:26.606170Z",
     "iopub.status.busy": "2024-06-13T08:32:26.605185Z",
     "iopub.status.idle": "2024-06-13T08:32:30.452115Z",
     "shell.execute_reply": "2024-06-13T08:32:30.451176Z"
    },
    "papermill": {
     "duration": 3.909266,
     "end_time": "2024-06-13T08:32:30.454259",
     "exception": false,
     "start_time": "2024-06-13T08:32:26.544993",
     "status": "completed"
    },
    "tags": []
   },
   "outputs": [
    {
     "data": {
      "text/plain": [
       "8.611937625481833"
      ]
     },
     "execution_count": 34,
     "metadata": {},
     "output_type": "execute_result"
    }
   ],
   "source": [
    "xgb = XGBRegressor(**{'n_estimators': 343, 'max_depth': 5, 'learning_rate': 0.03923322635827775, 'min_child_weight': 10, 'subsample': 0.8359556052315522, 'colsample_bytree': 0.7916273144992284, 'gamma': 3.4604144824790017, 'reg_alpha': 0.0005195098328849087, 'reg_lambda': 0.0001148934091628259})\n",
    "score = cross_val_score(xgb, X_train, y_train, scoring='neg_root_mean_squared_error', cv=5)\n",
    "score.mean() *-1"
   ]
  },
  {
   "cell_type": "code",
   "execution_count": 35,
   "id": "8c873184",
   "metadata": {
    "execution": {
     "iopub.execute_input": "2024-06-13T08:32:30.483008Z",
     "iopub.status.busy": "2024-06-13T08:32:30.482706Z",
     "iopub.status.idle": "2024-06-13T08:32:31.306161Z",
     "shell.execute_reply": "2024-06-13T08:32:31.305450Z"
    },
    "papermill": {
     "duration": 0.839512,
     "end_time": "2024-06-13T08:32:31.308125",
     "exception": false,
     "start_time": "2024-06-13T08:32:30.468613",
     "status": "completed"
    },
    "tags": []
   },
   "outputs": [
    {
     "data": {
      "text/html": [
       "<style>#sk-container-id-1 {color: black;background-color: white;}#sk-container-id-1 pre{padding: 0;}#sk-container-id-1 div.sk-toggleable {background-color: white;}#sk-container-id-1 label.sk-toggleable__label {cursor: pointer;display: block;width: 100%;margin-bottom: 0;padding: 0.3em;box-sizing: border-box;text-align: center;}#sk-container-id-1 label.sk-toggleable__label-arrow:before {content: \"▸\";float: left;margin-right: 0.25em;color: #696969;}#sk-container-id-1 label.sk-toggleable__label-arrow:hover:before {color: black;}#sk-container-id-1 div.sk-estimator:hover label.sk-toggleable__label-arrow:before {color: black;}#sk-container-id-1 div.sk-toggleable__content {max-height: 0;max-width: 0;overflow: hidden;text-align: left;background-color: #f0f8ff;}#sk-container-id-1 div.sk-toggleable__content pre {margin: 0.2em;color: black;border-radius: 0.25em;background-color: #f0f8ff;}#sk-container-id-1 input.sk-toggleable__control:checked~div.sk-toggleable__content {max-height: 200px;max-width: 100%;overflow: auto;}#sk-container-id-1 input.sk-toggleable__control:checked~label.sk-toggleable__label-arrow:before {content: \"▾\";}#sk-container-id-1 div.sk-estimator input.sk-toggleable__control:checked~label.sk-toggleable__label {background-color: #d4ebff;}#sk-container-id-1 div.sk-label input.sk-toggleable__control:checked~label.sk-toggleable__label {background-color: #d4ebff;}#sk-container-id-1 input.sk-hidden--visually {border: 0;clip: rect(1px 1px 1px 1px);clip: rect(1px, 1px, 1px, 1px);height: 1px;margin: -1px;overflow: hidden;padding: 0;position: absolute;width: 1px;}#sk-container-id-1 div.sk-estimator {font-family: monospace;background-color: #f0f8ff;border: 1px dotted black;border-radius: 0.25em;box-sizing: border-box;margin-bottom: 0.5em;}#sk-container-id-1 div.sk-estimator:hover {background-color: #d4ebff;}#sk-container-id-1 div.sk-parallel-item::after {content: \"\";width: 100%;border-bottom: 1px solid gray;flex-grow: 1;}#sk-container-id-1 div.sk-label:hover label.sk-toggleable__label {background-color: #d4ebff;}#sk-container-id-1 div.sk-serial::before {content: \"\";position: absolute;border-left: 1px solid gray;box-sizing: border-box;top: 0;bottom: 0;left: 50%;z-index: 0;}#sk-container-id-1 div.sk-serial {display: flex;flex-direction: column;align-items: center;background-color: white;padding-right: 0.2em;padding-left: 0.2em;position: relative;}#sk-container-id-1 div.sk-item {position: relative;z-index: 1;}#sk-container-id-1 div.sk-parallel {display: flex;align-items: stretch;justify-content: center;background-color: white;position: relative;}#sk-container-id-1 div.sk-item::before, #sk-container-id-1 div.sk-parallel-item::before {content: \"\";position: absolute;border-left: 1px solid gray;box-sizing: border-box;top: 0;bottom: 0;left: 50%;z-index: -1;}#sk-container-id-1 div.sk-parallel-item {display: flex;flex-direction: column;z-index: 1;position: relative;background-color: white;}#sk-container-id-1 div.sk-parallel-item:first-child::after {align-self: flex-end;width: 50%;}#sk-container-id-1 div.sk-parallel-item:last-child::after {align-self: flex-start;width: 50%;}#sk-container-id-1 div.sk-parallel-item:only-child::after {width: 0;}#sk-container-id-1 div.sk-dashed-wrapped {border: 1px dashed gray;margin: 0 0.4em 0.5em 0.4em;box-sizing: border-box;padding-bottom: 0.4em;background-color: white;}#sk-container-id-1 div.sk-label label {font-family: monospace;font-weight: bold;display: inline-block;line-height: 1.2em;}#sk-container-id-1 div.sk-label-container {text-align: center;}#sk-container-id-1 div.sk-container {/* jupyter's `normalize.less` sets `[hidden] { display: none; }` but bootstrap.min.css set `[hidden] { display: none !important; }` so we also need the `!important` here to be able to override the default hidden behavior on the sphinx rendered scikit-learn.org. See: https://github.com/scikit-learn/scikit-learn/issues/21755 */display: inline-block !important;position: relative;}#sk-container-id-1 div.sk-text-repr-fallback {display: none;}</style><div id=\"sk-container-id-1\" class=\"sk-top-container\"><div class=\"sk-text-repr-fallback\"><pre>XGBRegressor(base_score=None, booster=None, callbacks=None,\n",
       "             colsample_bylevel=None, colsample_bynode=None,\n",
       "             colsample_bytree=0.7916273144992284, device=None,\n",
       "             early_stopping_rounds=None, enable_categorical=False,\n",
       "             eval_metric=None, feature_types=None, gamma=3.4604144824790017,\n",
       "             grow_policy=None, importance_type=None,\n",
       "             interaction_constraints=None, learning_rate=0.03923322635827775,\n",
       "             max_bin=None, max_cat_threshold=None, max_cat_to_onehot=None,\n",
       "             max_delta_step=None, max_depth=5, max_leaves=None,\n",
       "             min_child_weight=10, missing=nan, monotone_constraints=None,\n",
       "             multi_strategy=None, n_estimators=343, n_jobs=None,\n",
       "             num_parallel_tree=None, random_state=None, ...)</pre><b>In a Jupyter environment, please rerun this cell to show the HTML representation or trust the notebook. <br />On GitHub, the HTML representation is unable to render, please try loading this page with nbviewer.org.</b></div><div class=\"sk-container\" hidden><div class=\"sk-item\"><div class=\"sk-estimator sk-toggleable\"><input class=\"sk-toggleable__control sk-hidden--visually\" id=\"sk-estimator-id-1\" type=\"checkbox\" checked><label for=\"sk-estimator-id-1\" class=\"sk-toggleable__label sk-toggleable__label-arrow\">XGBRegressor</label><div class=\"sk-toggleable__content\"><pre>XGBRegressor(base_score=None, booster=None, callbacks=None,\n",
       "             colsample_bylevel=None, colsample_bynode=None,\n",
       "             colsample_bytree=0.7916273144992284, device=None,\n",
       "             early_stopping_rounds=None, enable_categorical=False,\n",
       "             eval_metric=None, feature_types=None, gamma=3.4604144824790017,\n",
       "             grow_policy=None, importance_type=None,\n",
       "             interaction_constraints=None, learning_rate=0.03923322635827775,\n",
       "             max_bin=None, max_cat_threshold=None, max_cat_to_onehot=None,\n",
       "             max_delta_step=None, max_depth=5, max_leaves=None,\n",
       "             min_child_weight=10, missing=nan, monotone_constraints=None,\n",
       "             multi_strategy=None, n_estimators=343, n_jobs=None,\n",
       "             num_parallel_tree=None, random_state=None, ...)</pre></div></div></div></div></div>"
      ],
      "text/plain": [
       "XGBRegressor(base_score=None, booster=None, callbacks=None,\n",
       "             colsample_bylevel=None, colsample_bynode=None,\n",
       "             colsample_bytree=0.7916273144992284, device=None,\n",
       "             early_stopping_rounds=None, enable_categorical=False,\n",
       "             eval_metric=None, feature_types=None, gamma=3.4604144824790017,\n",
       "             grow_policy=None, importance_type=None,\n",
       "             interaction_constraints=None, learning_rate=0.03923322635827775,\n",
       "             max_bin=None, max_cat_threshold=None, max_cat_to_onehot=None,\n",
       "             max_delta_step=None, max_depth=5, max_leaves=None,\n",
       "             min_child_weight=10, missing=nan, monotone_constraints=None,\n",
       "             multi_strategy=None, n_estimators=343, n_jobs=None,\n",
       "             num_parallel_tree=None, random_state=None, ...)"
      ]
     },
     "execution_count": 35,
     "metadata": {},
     "output_type": "execute_result"
    }
   ],
   "source": [
    "xgb.fit(X_train,y_train)"
   ]
  },
  {
   "cell_type": "code",
   "execution_count": 36,
   "id": "71e80359",
   "metadata": {
    "execution": {
     "iopub.execute_input": "2024-06-13T08:32:31.336668Z",
     "iopub.status.busy": "2024-06-13T08:32:31.336336Z",
     "iopub.status.idle": "2024-06-13T08:32:31.371553Z",
     "shell.execute_reply": "2024-06-13T08:32:31.370719Z"
    },
    "papermill": {
     "duration": 0.051697,
     "end_time": "2024-06-13T08:32:31.373687",
     "exception": false,
     "start_time": "2024-06-13T08:32:31.321990",
     "status": "completed"
    },
    "tags": []
   },
   "outputs": [],
   "source": [
    "xgb_pred_2=xgb.predict(X_test)"
   ]
  },
  {
   "cell_type": "code",
   "execution_count": 37,
   "id": "ef21c503",
   "metadata": {
    "execution": {
     "iopub.execute_input": "2024-06-13T08:32:31.403308Z",
     "iopub.status.busy": "2024-06-13T08:32:31.403016Z",
     "iopub.status.idle": "2024-06-13T08:32:31.432603Z",
     "shell.execute_reply": "2024-06-13T08:32:31.431746Z"
    },
    "papermill": {
     "duration": 0.045512,
     "end_time": "2024-06-13T08:32:31.434454",
     "exception": false,
     "start_time": "2024-06-13T08:32:31.388942",
     "status": "completed"
    },
    "tags": []
   },
   "outputs": [],
   "source": [
    "pd.DataFrame({'id': test.id, 'target': xgb_pred_2}).to_csv('xgb_pred_2.csv', index=False)"
   ]
  }
 ],
 "metadata": {
  "kaggle": {
   "accelerator": "gpu",
   "dataSources": [
    {
     "databundleVersionId": 8825851,
     "sourceId": 81486,
     "sourceType": "competition"
    }
   ],
   "dockerImageVersionId": 30733,
   "isGpuEnabled": true,
   "isInternetEnabled": true,
   "language": "python",
   "sourceType": "notebook"
  },
  "kernelspec": {
   "display_name": "Python 3",
   "language": "python",
   "name": "python3"
  },
  "language_info": {
   "codemirror_mode": {
    "name": "ipython",
    "version": 3
   },
   "file_extension": ".py",
   "mimetype": "text/x-python",
   "name": "python",
   "nbconvert_exporter": "python",
   "pygments_lexer": "ipython3",
   "version": "3.10.13"
  },
  "papermill": {
   "default_parameters": {},
   "duration": 561.48737,
   "end_time": "2024-06-13T08:32:34.068958",
   "environment_variables": {},
   "exception": null,
   "input_path": "__notebook__.ipynb",
   "output_path": "__notebook__.ipynb",
   "parameters": {},
   "start_time": "2024-06-13T08:23:12.581588",
   "version": "2.5.0"
  }
 },
 "nbformat": 4,
 "nbformat_minor": 5
}
